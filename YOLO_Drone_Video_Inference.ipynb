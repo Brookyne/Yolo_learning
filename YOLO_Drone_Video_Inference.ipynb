{
  "cells": [
    {
      "cell_type": "markdown",
      "metadata": {
        "id": "view-in-github",
        "colab_type": "text"
      },
      "source": [
        "<a href=\"https://colab.research.google.com/github/Brookyne/Yolo_learning/blob/main/YOLO_Drone_Video_Inference.ipynb\" target=\"_parent\"><img src=\"https://colab.research.google.com/assets/colab-badge.svg\" alt=\"Open In Colab\"/></a>"
      ]
    },
    {
      "cell_type": "markdown",
      "metadata": {
        "id": "V2KtF9bS7Cvw"
      },
      "source": [
        "# YOLO — Chạy mô hình nhận diện Drone trên **video** (Colab-ready)\n",
        "\n",
        "Notebook này đã cấu hình sẵn để bạn chạy mô hình YOLO (Ultralytics) trên **file video**.\n",
        "\n",
        "👉 Bạn chỉ cần **điền đường dẫn** `MODEL_PATH` (tới `best.pt`) và `VIDEO_PATH` (tới video đầu vào). Có 2 cách chạy:\n",
        "\n",
        "1. **Cách 1 — Ultralytics.predict** (nhanh & đơn giản)\n",
        "2. **Cách 2 — OpenCV xử lý từng khung hình** (tuỳ biến cao, dễ chèn logic riêng)\n",
        "\n",
        "---\n",
        "**Gợi ý:** Nếu model/video nằm trong Google Drive, mount Drive và trỏ đường dẫn đúng. Nếu không có GPU, code tự chạy CPU.\n"
      ],
      "id": "V2KtF9bS7Cvw"
    },
    {
      "cell_type": "code",
      "execution_count": null,
      "metadata": {
        "colab": {
          "base_uri": "https://localhost:8080/"
        },
        "id": "Y-TY0IPK7Cvx",
        "outputId": "8ed694f3-c849-4edb-d75a-f5bfcc3efd25"
      },
      "outputs": [
        {
          "output_type": "stream",
          "name": "stdout",
          "text": [
            "\u001b[?25l   \u001b[90m━━━━━━━━━━━━━━━━━━━━━━━━━━━━━━━━━━━━━━━━\u001b[0m \u001b[32m0.0/1.1 MB\u001b[0m \u001b[31m?\u001b[0m eta \u001b[36m-:--:--\u001b[0m\r\u001b[2K   \u001b[91m━━━━━━━━━━━━━━━━━━━━━━━━━━━━━━\u001b[0m\u001b[91m╸\u001b[0m\u001b[90m━━━━━━━━━\u001b[0m \u001b[32m0.8/1.1 MB\u001b[0m \u001b[31m22.8 MB/s\u001b[0m eta \u001b[36m0:00:01\u001b[0m\r\u001b[2K   \u001b[90m━━━━━━━━━━━━━━━━━━━━━━━━━━━━━━━━━━━━━━━━\u001b[0m \u001b[32m1.1/1.1 MB\u001b[0m \u001b[31m13.6 MB/s\u001b[0m eta \u001b[36m0:00:00\u001b[0m\n",
            "\u001b[?25hCreating new Ultralytics Settings v0.0.6 file ✅ \n",
            "View Ultralytics Settings with 'yolo settings' or at '/root/.config/Ultralytics/settings.json'\n",
            "Update Settings with 'yolo settings key=value', i.e. 'yolo settings runs_dir=path/to/dir'. For help see https://docs.ultralytics.com/quickstart/#ultralytics-settings.\n",
            "✅ Installed & imported.\n"
          ]
        }
      ],
      "source": [
        "#@title 1) Cài thư viện cần thiết (Ultralytics, OpenCV)\n",
        "!pip -q install ultralytics opencv-python\n",
        "from ultralytics import YOLO\n",
        "import cv2, os, glob, time\n",
        "from IPython.display import HTML\n",
        "from base64 import b64encode\n",
        "print(\"✅ Installed & imported.\")"
      ],
      "id": "Y-TY0IPK7Cvx"
    },
    {
      "cell_type": "code",
      "execution_count": null,
      "metadata": {
        "colab": {
          "base_uri": "https://localhost:8080/"
        },
        "id": "gFWCK7Lk7Cvy",
        "outputId": "13167437-1186-4655-c5d5-7907362d487a"
      },
      "outputs": [
        {
          "output_type": "stream",
          "name": "stdout",
          "text": [
            "ℹ️ Bỏ qua mount Google Drive\n"
          ]
        }
      ],
      "source": [
        "#@title 2) (Tuỳ chọn) Mount Google Drive nếu model/video ở Drive\n",
        "use_drive = False  #@param {type:\"boolean\"}\n",
        "if use_drive:\n",
        "    from google.colab import drive\n",
        "    drive.mount('/content/drive')\n",
        "    print(\"✅ Drive mounted at /content/drive\")\n",
        "else:\n",
        "    print(\"ℹ️ Bỏ qua mount Google Drive\")"
      ],
      "id": "gFWCK7Lk7Cvy"
    },
    {
      "cell_type": "code",
      "execution_count": null,
      "metadata": {
        "colab": {
          "base_uri": "https://localhost:8080/"
        },
        "id": "txivGvBq7Cvy",
        "outputId": "39d6d39c-e49f-4331-f55f-3c376139838d"
      },
      "outputs": [
        {
          "output_type": "stream",
          "name": "stdout",
          "text": [
            "MODEL_PATH: best.pt\n",
            "VIDEO_PATH: https://drive.google.com/file/d/1JA5bb3-8B7oGhGF4uzKFL8QyRSaozVip/view?usp=drive_link\n"
          ]
        }
      ],
      "source": [
        "#@title 3) Thiết lập đường dẫn model & video\n",
        "MODEL_PATH = \"/content/best.pt\"\n",
        "VIDEO_PATH = \"https://drive.google.com/file/d/1JA5bb3-8B7oGhGF4uzKFL8QyRSaozVip/view?usp=drive_link\" #@param {type:\"string\"}\n",
        "OUTPUT_DIR = \"/content/runs/detect\"  # Thư mục YOLO mặc định\n",
        "\n",
        "device_prefer = 0  # 0: GPU đầu tiên nếu có, nếu không sẽ tự fallback CPU; có thể đặt 'cpu' để ép CPU\n",
        "conf_thres = 0.25  #@param {type:\"number\"}\n",
        "iou_thres  = 0.45  #@param {type:\"number\"}\n",
        "img_size   = 640   #@param {type:\"integer\"}\n",
        "\n",
        "print(\"MODEL_PATH:\", MODEL_PATH)\n",
        "print(\"VIDEO_PATH:\", VIDEO_PATH)"
      ],
      "id": "txivGvBq7Cvy"
    },
    {
      "cell_type": "markdown",
      "metadata": {
        "id": "dL5t6F5J7Cvy"
      },
      "source": [
        "## Cách 1 — Dùng `model.predict` (nhanh & gọn)"
      ],
      "id": "dL5t6F5J7Cvy"
    },
    {
      "cell_type": "code",
      "execution_count": null,
      "metadata": {
        "colab": {
          "base_uri": "https://localhost:8080/",
          "height": 219
        },
        "id": "1U5FLChA7Cvy",
        "outputId": "b852fb32-dd97-4b5b-cfa9-14bda0c10e90"
      },
      "outputs": [
        {
          "output_type": "error",
          "ename": "AssertionError",
          "evalue": "Không tìm thấy model: best.pt",
          "traceback": [
            "\u001b[0;31m---------------------------------------------------------------------------\u001b[0m",
            "\u001b[0;31mAssertionError\u001b[0m                            Traceback (most recent call last)",
            "\u001b[0;32m/tmp/ipython-input-360249893.py\u001b[0m in \u001b[0;36m<cell line: 0>\u001b[0;34m()\u001b[0m\n\u001b[1;32m      1\u001b[0m \u001b[0;31m#@title 4) Chạy predict trực tiếp (Ultralytics)\u001b[0m\u001b[0;34m\u001b[0m\u001b[0;34m\u001b[0m\u001b[0m\n\u001b[0;32m----> 2\u001b[0;31m \u001b[0;32massert\u001b[0m \u001b[0mos\u001b[0m\u001b[0;34m.\u001b[0m\u001b[0mpath\u001b[0m\u001b[0;34m.\u001b[0m\u001b[0mexists\u001b[0m\u001b[0;34m(\u001b[0m\u001b[0mMODEL_PATH\u001b[0m\u001b[0;34m)\u001b[0m\u001b[0;34m,\u001b[0m \u001b[0;34mf\"Không tìm thấy model: {MODEL_PATH}\"\u001b[0m\u001b[0;34m\u001b[0m\u001b[0;34m\u001b[0m\u001b[0m\n\u001b[0m\u001b[1;32m      3\u001b[0m \u001b[0;32massert\u001b[0m \u001b[0mos\u001b[0m\u001b[0;34m.\u001b[0m\u001b[0mpath\u001b[0m\u001b[0;34m.\u001b[0m\u001b[0mexists\u001b[0m\u001b[0;34m(\u001b[0m\u001b[0mVIDEO_PATH\u001b[0m\u001b[0;34m)\u001b[0m\u001b[0;34m,\u001b[0m \u001b[0;34mf\"Không tìm thấy video: {VIDEO_PATH}\"\u001b[0m\u001b[0;34m\u001b[0m\u001b[0;34m\u001b[0m\u001b[0m\n\u001b[1;32m      4\u001b[0m \u001b[0;34m\u001b[0m\u001b[0m\n\u001b[1;32m      5\u001b[0m \u001b[0mmodel\u001b[0m \u001b[0;34m=\u001b[0m \u001b[0mYOLO\u001b[0m\u001b[0;34m(\u001b[0m\u001b[0mMODEL_PATH\u001b[0m\u001b[0;34m)\u001b[0m\u001b[0;34m\u001b[0m\u001b[0;34m\u001b[0m\u001b[0m\n",
            "\u001b[0;31mAssertionError\u001b[0m: Không tìm thấy model: best.pt"
          ]
        }
      ],
      "source": [
        "#@title 4) Chạy predict trực tiếp (Ultralytics)\n",
        "assert os.path.exists(MODEL_PATH), f\"Không tìm thấy model: {MODEL_PATH}\"\n",
        "assert os.path.exists(VIDEO_PATH), f\"Không tìm thấy video: {VIDEO_PATH}\"\n",
        "\n",
        "model = YOLO(MODEL_PATH)\n",
        "results = model.predict(\n",
        "    source=VIDEO_PATH,\n",
        "    conf=conf_thres,\n",
        "    iou=iou_thres,\n",
        "    imgsz=img_size,\n",
        "    device=device_prefer,\n",
        "    save=True,\n",
        "    save_txt=False,\n",
        ")\n",
        "\n",
        "out_dirs = sorted(glob.glob(\"runs/detect/predict*\"))\n",
        "assert len(out_dirs) > 0, \"Không tìm thấy thư mục kết quả trong runs/detect/\"\n",
        "pred_dir = out_dirs[-1]\n",
        "print(\"📁 Thư mục kết quả:\", pred_dir)\n",
        "\n",
        "# Tìm video đầu ra (.mp4)\n",
        "mp4_files = glob.glob(os.path.join(pred_dir, \"*.mp4\"))\n",
        "if len(mp4_files) == 0:\n",
        "    # một số phiên bản đặt tên result khác -> quét sâu thêm\n",
        "    mp4_files = glob.glob(os.path.join(pred_dir, \"**/*.mp4\"), recursive=True)\n",
        "assert len(mp4_files) > 0, \"Không tìm thấy file .mp4 đầu ra!\"\n",
        "display_path = mp4_files[0]\n",
        "print(\"🎬 Video kết quả:\", display_path)\n",
        "\n",
        "# Hiển thị ngay trong notebook\n",
        "mp4 = open(display_path,'rb').read()\n",
        "data_url = \"data:video/mp4;base64,\" + b64encode(mp4).decode()\n",
        "HTML(f\"\"\"\n",
        "<video width=800 controls>\n",
        "      <source src='{data_url}' type='video/mp4'>\n",
        "</video>\n",
        "\"\"\")"
      ],
      "id": "1U5FLChA7Cvy"
    },
    {
      "cell_type": "markdown",
      "metadata": {
        "id": "DK-WUtGs7Cvz"
      },
      "source": [
        "## Cách 2 — Dùng OpenCV đọc khung hình & vẽ bbox thủ công (tuỳ biến)"
      ],
      "id": "DK-WUtGs7Cvz"
    },
    {
      "cell_type": "code",
      "execution_count": null,
      "metadata": {
        "cellView": "form",
        "id": "9WJIDnSd7Cvz"
      },
      "outputs": [],
      "source": [
        "#@title 5) Suy luận khung-hình (OpenCV loop) và xuất video\n",
        "OUTPUT_PATH = \"/content/out_detect.mp4\"  #@param {type:\"string\"}\n",
        "\n",
        "assert os.path.exists(MODEL_PATH), f\"Không tìm thấy model: {MODEL_PATH}\"\n",
        "assert os.path.exists(VIDEO_PATH), f\"Không tìm thấy video: {VIDEO_PATH}\"\n",
        "\n",
        "model = YOLO(MODEL_PATH)\n",
        "names = model.names\n",
        "\n",
        "cap = cv2.VideoCapture(VIDEO_PATH)\n",
        "w  = int(cap.get(cv2.CAP_PROP_FRAME_WIDTH))\n",
        "h  = int(cap.get(cv2.CAP_PROP_FRAME_HEIGHT))\n",
        "fps= cap.get(cv2.CAP_PROP_FPS) or 30\n",
        "\n",
        "fourcc = cv2.VideoWriter_fourcc(*'mp4v')  # thử 'avc1' nếu khó phát\n",
        "writer = cv2.VideoWriter(OUTPUT_PATH, fourcc, fps, (w, h))\n",
        "\n",
        "prev = time.time()\n",
        "frame_idx = 0\n",
        "\n",
        "while True:\n",
        "    ret, frame = cap.read()\n",
        "    if not ret:\n",
        "        break\n",
        "\n",
        "    # Dự đoán cho frame hiện tại\n",
        "    preds = model.predict(\n",
        "        frame, imgsz=img_size, conf=conf_thres, iou=iou_thres,\n",
        "        device=device_prefer, verbose=False\n",
        "    )\n",
        "\n",
        "    for r in preds:\n",
        "        boxes = r.boxes\n",
        "        if boxes is None:\n",
        "            continue\n",
        "        for box in boxes:\n",
        "            x1, y1, x2, y2 = box.xyxy[0].tolist()\n",
        "            cls_id = int(box.cls[0].item())\n",
        "            conf   = float(box.conf[0].item())\n",
        "            label  = f\"{names.get(cls_id, cls_id)} {conf:.2f}\"\n",
        "            x1, y1, x2, y2 = map(int, [x1,y1,x2,y2])\n",
        "            cv2.rectangle(frame, (x1,y1), (x2,y2), (0,255,0), 2)\n",
        "            cv2.putText(frame, label, (x1, y1-6), cv2.FONT_HERSHEY_SIMPLEX, 0.6, (0,255,0), 2)\n",
        "\n",
        "    # Hiển thị FPS\n",
        "    now = time.time()\n",
        "    fps_text = f\"FPS: {1/(now-prev):.2f}\"\n",
        "    prev = now\n",
        "    cv2.putText(frame, fps_text, (10, 30), cv2.FONT_HERSHEY_SIMPLEX, 1.0, (255,255,255), 2)\n",
        "\n",
        "    writer.write(frame)\n",
        "    frame_idx += 1\n",
        "\n",
        "cap.release()\n",
        "writer.release()\n",
        "print(\"✅ Đã lưu:\", OUTPUT_PATH)\n",
        "\n",
        "# Hiển thị video kết quả\n",
        "mp4 = open(OUTPUT_PATH,'rb').read()\n",
        "data_url = \"data:video/mp4;base64,\" + b64encode(mp4).decode()\n",
        "HTML(f\"\"\"\n",
        "<video width=800 controls>\n",
        "      <source src='{data_url}' type='video/mp4'>\n",
        "</video>\n",
        "\"\"\")"
      ],
      "id": "9WJIDnSd7Cvz"
    },
    {
      "cell_type": "markdown",
      "metadata": {
        "id": "9WWMvyoy7Cvz"
      },
      "source": [
        "### Ghi chú & xử lý lỗi nhanh\n",
        "- `FileNotFoundError` → kiểm tra lại `MODEL_PATH` và/hoặc `VIDEO_PATH`.\n",
        "- `CUDA not available` → đặt `device_prefer = 'cpu'`.\n",
        "- Chạy chậm → giảm `img_size` (vd 512), tăng `conf_thres`, đảm bảo dùng GPU.\n",
        "- Video lỗi codec/không phát → đổi `fourcc` sang `'avc1'`.\n",
        "- Tên lớp (class names) lấy từ model Ultralytics nên không cần tự nạp thủ công."
      ],
      "id": "9WWMvyoy7Cvz"
    }
  ],
  "metadata": {
    "colab": {
      "provenance": [],
      "include_colab_link": true
    },
    "kernelspec": {
      "display_name": "Python 3",
      "language": "python",
      "name": "python3"
    },
    "language_info": {
      "name": "python",
      "version": "3.x"
    }
  },
  "nbformat": 4,
  "nbformat_minor": 5
}